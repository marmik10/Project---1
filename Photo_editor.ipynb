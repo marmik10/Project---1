{
 "cells": [
  {
   "cell_type": "code",
   "execution_count": 1,
   "id": "555242c4",
   "metadata": {},
   "outputs": [],
   "source": [
    "# import the libraries as shown below\n",
    "import tensorflow\n",
    "from tensorflow.keras.layers import Input, Lambda, Dense, Flatten\n",
    "from tensorflow.keras.models import Model\n",
    "from tensorflow.keras.applications.resnet50 import ResNet50\n",
    "from keras.applications.vgg16 import VGG16\n",
    "from tensorflow.keras.applications.resnet50 import preprocess_input\n",
    "from tensorflow.keras.preprocessing import image\n",
    "from tensorflow.keras.preprocessing.image import ImageDataGenerator,load_img\n",
    "from tensorflow.keras.models import Sequential\n",
    "import numpy as np\n",
    "from glob import glob\n",
    "import matplotlib.pyplot as plt"
   ]
  },
  {
   "cell_type": "code",
   "execution_count": 8,
   "id": "549fd452",
   "metadata": {},
   "outputs": [],
   "source": [
    "# re-size all the images to this\n",
    "IMAGE_SIZE = [224, 224]\n",
    "\n",
    "train_path = 'photo_data/train'\n",
    "valid_path = 'photo_data/test'"
   ]
  },
  {
   "cell_type": "code",
   "execution_count": 9,
   "id": "04caef9b",
   "metadata": {},
   "outputs": [],
   "source": [
    "# Import the Vgg 16 library as shown below and add preprocessing layer to the front of VGG\n",
    "# Here we will be using imagenet weights\n",
    "\n",
    "resnet = ResNet50(input_shape=IMAGE_SIZE + [3], weights='imagenet', include_top=False)"
   ]
  },
  {
   "cell_type": "code",
   "execution_count": 10,
   "id": "85b7fd29",
   "metadata": {},
   "outputs": [],
   "source": [
    "# don't train existing weights\n",
    "for layer in resnet.layers:\n",
    "    layer.trainable = False"
   ]
  },
  {
   "cell_type": "code",
   "execution_count": 11,
   "id": "f1ed9049",
   "metadata": {},
   "outputs": [],
   "source": [
    "# useful for getting number of output classes\n",
    "folders = glob('photo_data/train/*')"
   ]
  },
  {
   "cell_type": "code",
   "execution_count": 12,
   "id": "15bf9cc5",
   "metadata": {},
   "outputs": [],
   "source": [
    "# our layers - you can add more if you want\n",
    "x = Flatten()(resnet.output)"
   ]
  },
  {
   "cell_type": "code",
   "execution_count": 13,
   "id": "563723ed",
   "metadata": {},
   "outputs": [],
   "source": [
    "prediction = Dense(len(folders), activation='softmax')(x)\n",
    "\n",
    "#Making a model\n",
    "model = Model(inputs=resnet.input, outputs=prediction)"
   ]
  },
  {
   "cell_type": "code",
   "execution_count": 14,
   "id": "4041eabc",
   "metadata": {},
   "outputs": [
    {
     "name": "stdout",
     "output_type": "stream",
     "text": [
      "Model: \"model_1\"\n",
      "__________________________________________________________________________________________________\n",
      " Layer (type)                   Output Shape         Param #     Connected to                     \n",
      "==================================================================================================\n",
      " input_2 (InputLayer)           [(None, 224, 224, 3  0           []                               \n",
      "                                )]                                                                \n",
      "                                                                                                  \n",
      " conv1_pad (ZeroPadding2D)      (None, 230, 230, 3)  0           ['input_2[0][0]']                \n",
      "                                                                                                  \n",
      " conv1_conv (Conv2D)            (None, 112, 112, 64  9472        ['conv1_pad[0][0]']              \n",
      "                                )                                                                 \n",
      "                                                                                                  \n",
      " conv1_bn (BatchNormalization)  (None, 112, 112, 64  256         ['conv1_conv[0][0]']             \n",
      "                                )                                                                 \n",
      "                                                                                                  \n",
      " conv1_relu (Activation)        (None, 112, 112, 64  0           ['conv1_bn[0][0]']               \n",
      "                                )                                                                 \n",
      "                                                                                                  \n",
      " pool1_pad (ZeroPadding2D)      (None, 114, 114, 64  0           ['conv1_relu[0][0]']             \n",
      "                                )                                                                 \n",
      "                                                                                                  \n",
      " pool1_pool (MaxPooling2D)      (None, 56, 56, 64)   0           ['pool1_pad[0][0]']              \n",
      "                                                                                                  \n",
      " conv2_block1_1_conv (Conv2D)   (None, 56, 56, 64)   4160        ['pool1_pool[0][0]']             \n",
      "                                                                                                  \n",
      " conv2_block1_1_bn (BatchNormal  (None, 56, 56, 64)  256         ['conv2_block1_1_conv[0][0]']    \n",
      " ization)                                                                                         \n",
      "                                                                                                  \n",
      " conv2_block1_1_relu (Activatio  (None, 56, 56, 64)  0           ['conv2_block1_1_bn[0][0]']      \n",
      " n)                                                                                               \n",
      "                                                                                                  \n",
      " conv2_block1_2_conv (Conv2D)   (None, 56, 56, 64)   36928       ['conv2_block1_1_relu[0][0]']    \n",
      "                                                                                                  \n",
      " conv2_block1_2_bn (BatchNormal  (None, 56, 56, 64)  256         ['conv2_block1_2_conv[0][0]']    \n",
      " ization)                                                                                         \n",
      "                                                                                                  \n",
      " conv2_block1_2_relu (Activatio  (None, 56, 56, 64)  0           ['conv2_block1_2_bn[0][0]']      \n",
      " n)                                                                                               \n",
      "                                                                                                  \n",
      " conv2_block1_0_conv (Conv2D)   (None, 56, 56, 256)  16640       ['pool1_pool[0][0]']             \n",
      "                                                                                                  \n",
      " conv2_block1_3_conv (Conv2D)   (None, 56, 56, 256)  16640       ['conv2_block1_2_relu[0][0]']    \n",
      "                                                                                                  \n",
      " conv2_block1_0_bn (BatchNormal  (None, 56, 56, 256)  1024       ['conv2_block1_0_conv[0][0]']    \n",
      " ization)                                                                                         \n",
      "                                                                                                  \n",
      " conv2_block1_3_bn (BatchNormal  (None, 56, 56, 256)  1024       ['conv2_block1_3_conv[0][0]']    \n",
      " ization)                                                                                         \n",
      "                                                                                                  \n",
      " conv2_block1_add (Add)         (None, 56, 56, 256)  0           ['conv2_block1_0_bn[0][0]',      \n",
      "                                                                  'conv2_block1_3_bn[0][0]']      \n",
      "                                                                                                  \n",
      " conv2_block1_out (Activation)  (None, 56, 56, 256)  0           ['conv2_block1_add[0][0]']       \n",
      "                                                                                                  \n",
      " conv2_block2_1_conv (Conv2D)   (None, 56, 56, 64)   16448       ['conv2_block1_out[0][0]']       \n",
      "                                                                                                  \n",
      " conv2_block2_1_bn (BatchNormal  (None, 56, 56, 64)  256         ['conv2_block2_1_conv[0][0]']    \n",
      " ization)                                                                                         \n",
      "                                                                                                  \n",
      " conv2_block2_1_relu (Activatio  (None, 56, 56, 64)  0           ['conv2_block2_1_bn[0][0]']      \n",
      " n)                                                                                               \n",
      "                                                                                                  \n",
      " conv2_block2_2_conv (Conv2D)   (None, 56, 56, 64)   36928       ['conv2_block2_1_relu[0][0]']    \n",
      "                                                                                                  \n",
      " conv2_block2_2_bn (BatchNormal  (None, 56, 56, 64)  256         ['conv2_block2_2_conv[0][0]']    \n",
      " ization)                                                                                         \n",
      "                                                                                                  \n",
      " conv2_block2_2_relu (Activatio  (None, 56, 56, 64)  0           ['conv2_block2_2_bn[0][0]']      \n",
      " n)                                                                                               \n",
      "                                                                                                  \n",
      " conv2_block2_3_conv (Conv2D)   (None, 56, 56, 256)  16640       ['conv2_block2_2_relu[0][0]']    \n",
      "                                                                                                  \n",
      " conv2_block2_3_bn (BatchNormal  (None, 56, 56, 256)  1024       ['conv2_block2_3_conv[0][0]']    \n",
      " ization)                                                                                         \n",
      "                                                                                                  \n",
      " conv2_block2_add (Add)         (None, 56, 56, 256)  0           ['conv2_block1_out[0][0]',       \n",
      "                                                                  'conv2_block2_3_bn[0][0]']      \n",
      "                                                                                                  \n",
      " conv2_block2_out (Activation)  (None, 56, 56, 256)  0           ['conv2_block2_add[0][0]']       \n",
      "                                                                                                  \n",
      " conv2_block3_1_conv (Conv2D)   (None, 56, 56, 64)   16448       ['conv2_block2_out[0][0]']       \n",
      "                                                                                                  \n",
      " conv2_block3_1_bn (BatchNormal  (None, 56, 56, 64)  256         ['conv2_block3_1_conv[0][0]']    \n",
      " ization)                                                                                         \n"
     ]
    },
    {
     "name": "stdout",
     "output_type": "stream",
     "text": [
      "                                                                                                  \n",
      " conv2_block3_1_relu (Activatio  (None, 56, 56, 64)  0           ['conv2_block3_1_bn[0][0]']      \n",
      " n)                                                                                               \n",
      "                                                                                                  \n",
      " conv2_block3_2_conv (Conv2D)   (None, 56, 56, 64)   36928       ['conv2_block3_1_relu[0][0]']    \n",
      "                                                                                                  \n",
      " conv2_block3_2_bn (BatchNormal  (None, 56, 56, 64)  256         ['conv2_block3_2_conv[0][0]']    \n",
      " ization)                                                                                         \n",
      "                                                                                                  \n",
      " conv2_block3_2_relu (Activatio  (None, 56, 56, 64)  0           ['conv2_block3_2_bn[0][0]']      \n",
      " n)                                                                                               \n",
      "                                                                                                  \n",
      " conv2_block3_3_conv (Conv2D)   (None, 56, 56, 256)  16640       ['conv2_block3_2_relu[0][0]']    \n",
      "                                                                                                  \n",
      " conv2_block3_3_bn (BatchNormal  (None, 56, 56, 256)  1024       ['conv2_block3_3_conv[0][0]']    \n",
      " ization)                                                                                         \n",
      "                                                                                                  \n",
      " conv2_block3_add (Add)         (None, 56, 56, 256)  0           ['conv2_block2_out[0][0]',       \n",
      "                                                                  'conv2_block3_3_bn[0][0]']      \n",
      "                                                                                                  \n",
      " conv2_block3_out (Activation)  (None, 56, 56, 256)  0           ['conv2_block3_add[0][0]']       \n",
      "                                                                                                  \n",
      " conv3_block1_1_conv (Conv2D)   (None, 28, 28, 128)  32896       ['conv2_block3_out[0][0]']       \n",
      "                                                                                                  \n",
      " conv3_block1_1_bn (BatchNormal  (None, 28, 28, 128)  512        ['conv3_block1_1_conv[0][0]']    \n",
      " ization)                                                                                         \n",
      "                                                                                                  \n",
      " conv3_block1_1_relu (Activatio  (None, 28, 28, 128)  0          ['conv3_block1_1_bn[0][0]']      \n",
      " n)                                                                                               \n",
      "                                                                                                  \n",
      " conv3_block1_2_conv (Conv2D)   (None, 28, 28, 128)  147584      ['conv3_block1_1_relu[0][0]']    \n",
      "                                                                                                  \n",
      " conv3_block1_2_bn (BatchNormal  (None, 28, 28, 128)  512        ['conv3_block1_2_conv[0][0]']    \n",
      " ization)                                                                                         \n",
      "                                                                                                  \n",
      " conv3_block1_2_relu (Activatio  (None, 28, 28, 128)  0          ['conv3_block1_2_bn[0][0]']      \n",
      " n)                                                                                               \n",
      "                                                                                                  \n",
      " conv3_block1_0_conv (Conv2D)   (None, 28, 28, 512)  131584      ['conv2_block3_out[0][0]']       \n",
      "                                                                                                  \n",
      " conv3_block1_3_conv (Conv2D)   (None, 28, 28, 512)  66048       ['conv3_block1_2_relu[0][0]']    \n",
      "                                                                                                  \n",
      " conv3_block1_0_bn (BatchNormal  (None, 28, 28, 512)  2048       ['conv3_block1_0_conv[0][0]']    \n",
      " ization)                                                                                         \n",
      "                                                                                                  \n",
      " conv3_block1_3_bn (BatchNormal  (None, 28, 28, 512)  2048       ['conv3_block1_3_conv[0][0]']    \n",
      " ization)                                                                                         \n",
      "                                                                                                  \n",
      " conv3_block1_add (Add)         (None, 28, 28, 512)  0           ['conv3_block1_0_bn[0][0]',      \n",
      "                                                                  'conv3_block1_3_bn[0][0]']      \n",
      "                                                                                                  \n",
      " conv3_block1_out (Activation)  (None, 28, 28, 512)  0           ['conv3_block1_add[0][0]']       \n",
      "                                                                                                  \n",
      " conv3_block2_1_conv (Conv2D)   (None, 28, 28, 128)  65664       ['conv3_block1_out[0][0]']       \n",
      "                                                                                                  \n",
      " conv3_block2_1_bn (BatchNormal  (None, 28, 28, 128)  512        ['conv3_block2_1_conv[0][0]']    \n",
      " ization)                                                                                         \n",
      "                                                                                                  \n",
      " conv3_block2_1_relu (Activatio  (None, 28, 28, 128)  0          ['conv3_block2_1_bn[0][0]']      \n",
      " n)                                                                                               \n",
      "                                                                                                  \n",
      " conv3_block2_2_conv (Conv2D)   (None, 28, 28, 128)  147584      ['conv3_block2_1_relu[0][0]']    \n",
      "                                                                                                  \n",
      " conv3_block2_2_bn (BatchNormal  (None, 28, 28, 128)  512        ['conv3_block2_2_conv[0][0]']    \n",
      " ization)                                                                                         \n",
      "                                                                                                  \n",
      " conv3_block2_2_relu (Activatio  (None, 28, 28, 128)  0          ['conv3_block2_2_bn[0][0]']      \n",
      " n)                                                                                               \n",
      "                                                                                                  \n",
      " conv3_block2_3_conv (Conv2D)   (None, 28, 28, 512)  66048       ['conv3_block2_2_relu[0][0]']    \n",
      "                                                                                                  \n",
      " conv3_block2_3_bn (BatchNormal  (None, 28, 28, 512)  2048       ['conv3_block2_3_conv[0][0]']    \n",
      " ization)                                                                                         \n",
      "                                                                                                  \n",
      " conv3_block2_add (Add)         (None, 28, 28, 512)  0           ['conv3_block1_out[0][0]',       \n",
      "                                                                  'conv3_block2_3_bn[0][0]']      \n",
      "                                                                                                  \n",
      " conv3_block2_out (Activation)  (None, 28, 28, 512)  0           ['conv3_block2_add[0][0]']       \n",
      "                                                                                                  \n",
      " conv3_block3_1_conv (Conv2D)   (None, 28, 28, 128)  65664       ['conv3_block2_out[0][0]']       \n",
      "                                                                                                  \n",
      " conv3_block3_1_bn (BatchNormal  (None, 28, 28, 128)  512        ['conv3_block3_1_conv[0][0]']    \n",
      " ization)                                                                                         \n"
     ]
    },
    {
     "name": "stdout",
     "output_type": "stream",
     "text": [
      "                                                                                                  \n",
      " conv3_block3_1_relu (Activatio  (None, 28, 28, 128)  0          ['conv3_block3_1_bn[0][0]']      \n",
      " n)                                                                                               \n",
      "                                                                                                  \n",
      " conv3_block3_2_conv (Conv2D)   (None, 28, 28, 128)  147584      ['conv3_block3_1_relu[0][0]']    \n",
      "                                                                                                  \n",
      " conv3_block3_2_bn (BatchNormal  (None, 28, 28, 128)  512        ['conv3_block3_2_conv[0][0]']    \n",
      " ization)                                                                                         \n",
      "                                                                                                  \n",
      " conv3_block3_2_relu (Activatio  (None, 28, 28, 128)  0          ['conv3_block3_2_bn[0][0]']      \n",
      " n)                                                                                               \n",
      "                                                                                                  \n",
      " conv3_block3_3_conv (Conv2D)   (None, 28, 28, 512)  66048       ['conv3_block3_2_relu[0][0]']    \n",
      "                                                                                                  \n",
      " conv3_block3_3_bn (BatchNormal  (None, 28, 28, 512)  2048       ['conv3_block3_3_conv[0][0]']    \n",
      " ization)                                                                                         \n",
      "                                                                                                  \n",
      " conv3_block3_add (Add)         (None, 28, 28, 512)  0           ['conv3_block2_out[0][0]',       \n",
      "                                                                  'conv3_block3_3_bn[0][0]']      \n",
      "                                                                                                  \n",
      " conv3_block3_out (Activation)  (None, 28, 28, 512)  0           ['conv3_block3_add[0][0]']       \n",
      "                                                                                                  \n",
      " conv3_block4_1_conv (Conv2D)   (None, 28, 28, 128)  65664       ['conv3_block3_out[0][0]']       \n",
      "                                                                                                  \n",
      " conv3_block4_1_bn (BatchNormal  (None, 28, 28, 128)  512        ['conv3_block4_1_conv[0][0]']    \n",
      " ization)                                                                                         \n",
      "                                                                                                  \n",
      " conv3_block4_1_relu (Activatio  (None, 28, 28, 128)  0          ['conv3_block4_1_bn[0][0]']      \n",
      " n)                                                                                               \n",
      "                                                                                                  \n",
      " conv3_block4_2_conv (Conv2D)   (None, 28, 28, 128)  147584      ['conv3_block4_1_relu[0][0]']    \n",
      "                                                                                                  \n",
      " conv3_block4_2_bn (BatchNormal  (None, 28, 28, 128)  512        ['conv3_block4_2_conv[0][0]']    \n",
      " ization)                                                                                         \n",
      "                                                                                                  \n",
      " conv3_block4_2_relu (Activatio  (None, 28, 28, 128)  0          ['conv3_block4_2_bn[0][0]']      \n",
      " n)                                                                                               \n",
      "                                                                                                  \n",
      " conv3_block4_3_conv (Conv2D)   (None, 28, 28, 512)  66048       ['conv3_block4_2_relu[0][0]']    \n",
      "                                                                                                  \n",
      " conv3_block4_3_bn (BatchNormal  (None, 28, 28, 512)  2048       ['conv3_block4_3_conv[0][0]']    \n",
      " ization)                                                                                         \n",
      "                                                                                                  \n",
      " conv3_block4_add (Add)         (None, 28, 28, 512)  0           ['conv3_block3_out[0][0]',       \n",
      "                                                                  'conv3_block4_3_bn[0][0]']      \n",
      "                                                                                                  \n",
      " conv3_block4_out (Activation)  (None, 28, 28, 512)  0           ['conv3_block4_add[0][0]']       \n",
      "                                                                                                  \n",
      " conv4_block1_1_conv (Conv2D)   (None, 14, 14, 256)  131328      ['conv3_block4_out[0][0]']       \n",
      "                                                                                                  \n",
      " conv4_block1_1_bn (BatchNormal  (None, 14, 14, 256)  1024       ['conv4_block1_1_conv[0][0]']    \n",
      " ization)                                                                                         \n",
      "                                                                                                  \n",
      " conv4_block1_1_relu (Activatio  (None, 14, 14, 256)  0          ['conv4_block1_1_bn[0][0]']      \n",
      " n)                                                                                               \n",
      "                                                                                                  \n",
      " conv4_block1_2_conv (Conv2D)   (None, 14, 14, 256)  590080      ['conv4_block1_1_relu[0][0]']    \n",
      "                                                                                                  \n",
      " conv4_block1_2_bn (BatchNormal  (None, 14, 14, 256)  1024       ['conv4_block1_2_conv[0][0]']    \n",
      " ization)                                                                                         \n",
      "                                                                                                  \n",
      " conv4_block1_2_relu (Activatio  (None, 14, 14, 256)  0          ['conv4_block1_2_bn[0][0]']      \n",
      " n)                                                                                               \n",
      "                                                                                                  \n",
      " conv4_block1_0_conv (Conv2D)   (None, 14, 14, 1024  525312      ['conv3_block4_out[0][0]']       \n",
      "                                )                                                                 \n",
      "                                                                                                  \n",
      " conv4_block1_3_conv (Conv2D)   (None, 14, 14, 1024  263168      ['conv4_block1_2_relu[0][0]']    \n",
      "                                )                                                                 \n",
      "                                                                                                  \n",
      " conv4_block1_0_bn (BatchNormal  (None, 14, 14, 1024  4096       ['conv4_block1_0_conv[0][0]']    \n",
      " ization)                       )                                                                 \n",
      "                                                                                                  \n",
      " conv4_block1_3_bn (BatchNormal  (None, 14, 14, 1024  4096       ['conv4_block1_3_conv[0][0]']    \n",
      " ization)                       )                                                                 \n",
      "                                                                                                  \n",
      " conv4_block1_add (Add)         (None, 14, 14, 1024  0           ['conv4_block1_0_bn[0][0]',      \n",
      "                                )                                 'conv4_block1_3_bn[0][0]']      \n",
      "                                                                                                  \n",
      " conv4_block1_out (Activation)  (None, 14, 14, 1024  0           ['conv4_block1_add[0][0]']       \n",
      "                                )                                                                 \n",
      "                                                                                                  \n",
      " conv4_block2_1_conv (Conv2D)   (None, 14, 14, 256)  262400      ['conv4_block1_out[0][0]']       \n"
     ]
    },
    {
     "name": "stdout",
     "output_type": "stream",
     "text": [
      "                                                                                                  \n",
      " conv4_block2_1_bn (BatchNormal  (None, 14, 14, 256)  1024       ['conv4_block2_1_conv[0][0]']    \n",
      " ization)                                                                                         \n",
      "                                                                                                  \n",
      " conv4_block2_1_relu (Activatio  (None, 14, 14, 256)  0          ['conv4_block2_1_bn[0][0]']      \n",
      " n)                                                                                               \n",
      "                                                                                                  \n",
      " conv4_block2_2_conv (Conv2D)   (None, 14, 14, 256)  590080      ['conv4_block2_1_relu[0][0]']    \n",
      "                                                                                                  \n",
      " conv4_block2_2_bn (BatchNormal  (None, 14, 14, 256)  1024       ['conv4_block2_2_conv[0][0]']    \n",
      " ization)                                                                                         \n",
      "                                                                                                  \n",
      " conv4_block2_2_relu (Activatio  (None, 14, 14, 256)  0          ['conv4_block2_2_bn[0][0]']      \n",
      " n)                                                                                               \n",
      "                                                                                                  \n",
      " conv4_block2_3_conv (Conv2D)   (None, 14, 14, 1024  263168      ['conv4_block2_2_relu[0][0]']    \n",
      "                                )                                                                 \n",
      "                                                                                                  \n",
      " conv4_block2_3_bn (BatchNormal  (None, 14, 14, 1024  4096       ['conv4_block2_3_conv[0][0]']    \n",
      " ization)                       )                                                                 \n",
      "                                                                                                  \n",
      " conv4_block2_add (Add)         (None, 14, 14, 1024  0           ['conv4_block1_out[0][0]',       \n",
      "                                )                                 'conv4_block2_3_bn[0][0]']      \n",
      "                                                                                                  \n",
      " conv4_block2_out (Activation)  (None, 14, 14, 1024  0           ['conv4_block2_add[0][0]']       \n",
      "                                )                                                                 \n",
      "                                                                                                  \n",
      " conv4_block3_1_conv (Conv2D)   (None, 14, 14, 256)  262400      ['conv4_block2_out[0][0]']       \n",
      "                                                                                                  \n",
      " conv4_block3_1_bn (BatchNormal  (None, 14, 14, 256)  1024       ['conv4_block3_1_conv[0][0]']    \n",
      " ization)                                                                                         \n",
      "                                                                                                  \n",
      " conv4_block3_1_relu (Activatio  (None, 14, 14, 256)  0          ['conv4_block3_1_bn[0][0]']      \n",
      " n)                                                                                               \n",
      "                                                                                                  \n",
      " conv4_block3_2_conv (Conv2D)   (None, 14, 14, 256)  590080      ['conv4_block3_1_relu[0][0]']    \n",
      "                                                                                                  \n",
      " conv4_block3_2_bn (BatchNormal  (None, 14, 14, 256)  1024       ['conv4_block3_2_conv[0][0]']    \n",
      " ization)                                                                                         \n",
      "                                                                                                  \n",
      " conv4_block3_2_relu (Activatio  (None, 14, 14, 256)  0          ['conv4_block3_2_bn[0][0]']      \n",
      " n)                                                                                               \n",
      "                                                                                                  \n",
      " conv4_block3_3_conv (Conv2D)   (None, 14, 14, 1024  263168      ['conv4_block3_2_relu[0][0]']    \n",
      "                                )                                                                 \n",
      "                                                                                                  \n",
      " conv4_block3_3_bn (BatchNormal  (None, 14, 14, 1024  4096       ['conv4_block3_3_conv[0][0]']    \n",
      " ization)                       )                                                                 \n",
      "                                                                                                  \n",
      " conv4_block3_add (Add)         (None, 14, 14, 1024  0           ['conv4_block2_out[0][0]',       \n",
      "                                )                                 'conv4_block3_3_bn[0][0]']      \n",
      "                                                                                                  \n",
      " conv4_block3_out (Activation)  (None, 14, 14, 1024  0           ['conv4_block3_add[0][0]']       \n",
      "                                )                                                                 \n",
      "                                                                                                  \n",
      " conv4_block4_1_conv (Conv2D)   (None, 14, 14, 256)  262400      ['conv4_block3_out[0][0]']       \n",
      "                                                                                                  \n",
      " conv4_block4_1_bn (BatchNormal  (None, 14, 14, 256)  1024       ['conv4_block4_1_conv[0][0]']    \n",
      " ization)                                                                                         \n",
      "                                                                                                  \n",
      " conv4_block4_1_relu (Activatio  (None, 14, 14, 256)  0          ['conv4_block4_1_bn[0][0]']      \n",
      " n)                                                                                               \n",
      "                                                                                                  \n",
      " conv4_block4_2_conv (Conv2D)   (None, 14, 14, 256)  590080      ['conv4_block4_1_relu[0][0]']    \n",
      "                                                                                                  \n",
      " conv4_block4_2_bn (BatchNormal  (None, 14, 14, 256)  1024       ['conv4_block4_2_conv[0][0]']    \n",
      " ization)                                                                                         \n",
      "                                                                                                  \n",
      " conv4_block4_2_relu (Activatio  (None, 14, 14, 256)  0          ['conv4_block4_2_bn[0][0]']      \n",
      " n)                                                                                               \n",
      "                                                                                                  \n",
      " conv4_block4_3_conv (Conv2D)   (None, 14, 14, 1024  263168      ['conv4_block4_2_relu[0][0]']    \n",
      "                                )                                                                 \n",
      "                                                                                                  \n",
      " conv4_block4_3_bn (BatchNormal  (None, 14, 14, 1024  4096       ['conv4_block4_3_conv[0][0]']    \n",
      " ization)                       )                                                                 \n",
      "                                                                                                  \n",
      " conv4_block4_add (Add)         (None, 14, 14, 1024  0           ['conv4_block3_out[0][0]',       \n",
      "                                )                                 'conv4_block4_3_bn[0][0]']      \n",
      "                                                                                                  \n",
      " conv4_block4_out (Activation)  (None, 14, 14, 1024  0           ['conv4_block4_add[0][0]']       \n",
      "                                )                                                                 \n",
      "                                                                                                  \n"
     ]
    },
    {
     "name": "stdout",
     "output_type": "stream",
     "text": [
      " conv4_block5_1_conv (Conv2D)   (None, 14, 14, 256)  262400      ['conv4_block4_out[0][0]']       \n",
      "                                                                                                  \n",
      " conv4_block5_1_bn (BatchNormal  (None, 14, 14, 256)  1024       ['conv4_block5_1_conv[0][0]']    \n",
      " ization)                                                                                         \n",
      "                                                                                                  \n",
      " conv4_block5_1_relu (Activatio  (None, 14, 14, 256)  0          ['conv4_block5_1_bn[0][0]']      \n",
      " n)                                                                                               \n",
      "                                                                                                  \n",
      " conv4_block5_2_conv (Conv2D)   (None, 14, 14, 256)  590080      ['conv4_block5_1_relu[0][0]']    \n",
      "                                                                                                  \n",
      " conv4_block5_2_bn (BatchNormal  (None, 14, 14, 256)  1024       ['conv4_block5_2_conv[0][0]']    \n",
      " ization)                                                                                         \n",
      "                                                                                                  \n",
      " conv4_block5_2_relu (Activatio  (None, 14, 14, 256)  0          ['conv4_block5_2_bn[0][0]']      \n",
      " n)                                                                                               \n",
      "                                                                                                  \n",
      " conv4_block5_3_conv (Conv2D)   (None, 14, 14, 1024  263168      ['conv4_block5_2_relu[0][0]']    \n",
      "                                )                                                                 \n",
      "                                                                                                  \n",
      " conv4_block5_3_bn (BatchNormal  (None, 14, 14, 1024  4096       ['conv4_block5_3_conv[0][0]']    \n",
      " ization)                       )                                                                 \n",
      "                                                                                                  \n",
      " conv4_block5_add (Add)         (None, 14, 14, 1024  0           ['conv4_block4_out[0][0]',       \n",
      "                                )                                 'conv4_block5_3_bn[0][0]']      \n",
      "                                                                                                  \n",
      " conv4_block5_out (Activation)  (None, 14, 14, 1024  0           ['conv4_block5_add[0][0]']       \n",
      "                                )                                                                 \n",
      "                                                                                                  \n",
      " conv4_block6_1_conv (Conv2D)   (None, 14, 14, 256)  262400      ['conv4_block5_out[0][0]']       \n",
      "                                                                                                  \n",
      " conv4_block6_1_bn (BatchNormal  (None, 14, 14, 256)  1024       ['conv4_block6_1_conv[0][0]']    \n",
      " ization)                                                                                         \n",
      "                                                                                                  \n",
      " conv4_block6_1_relu (Activatio  (None, 14, 14, 256)  0          ['conv4_block6_1_bn[0][0]']      \n",
      " n)                                                                                               \n",
      "                                                                                                  \n",
      " conv4_block6_2_conv (Conv2D)   (None, 14, 14, 256)  590080      ['conv4_block6_1_relu[0][0]']    \n",
      "                                                                                                  \n",
      " conv4_block6_2_bn (BatchNormal  (None, 14, 14, 256)  1024       ['conv4_block6_2_conv[0][0]']    \n",
      " ization)                                                                                         \n",
      "                                                                                                  \n",
      " conv4_block6_2_relu (Activatio  (None, 14, 14, 256)  0          ['conv4_block6_2_bn[0][0]']      \n",
      " n)                                                                                               \n",
      "                                                                                                  \n",
      " conv4_block6_3_conv (Conv2D)   (None, 14, 14, 1024  263168      ['conv4_block6_2_relu[0][0]']    \n",
      "                                )                                                                 \n",
      "                                                                                                  \n",
      " conv4_block6_3_bn (BatchNormal  (None, 14, 14, 1024  4096       ['conv4_block6_3_conv[0][0]']    \n",
      " ization)                       )                                                                 \n",
      "                                                                                                  \n",
      " conv4_block6_add (Add)         (None, 14, 14, 1024  0           ['conv4_block5_out[0][0]',       \n",
      "                                )                                 'conv4_block6_3_bn[0][0]']      \n",
      "                                                                                                  \n",
      " conv4_block6_out (Activation)  (None, 14, 14, 1024  0           ['conv4_block6_add[0][0]']       \n",
      "                                )                                                                 \n",
      "                                                                                                  \n",
      " conv5_block1_1_conv (Conv2D)   (None, 7, 7, 512)    524800      ['conv4_block6_out[0][0]']       \n",
      "                                                                                                  \n",
      " conv5_block1_1_bn (BatchNormal  (None, 7, 7, 512)   2048        ['conv5_block1_1_conv[0][0]']    \n",
      " ization)                                                                                         \n",
      "                                                                                                  \n",
      " conv5_block1_1_relu (Activatio  (None, 7, 7, 512)   0           ['conv5_block1_1_bn[0][0]']      \n",
      " n)                                                                                               \n",
      "                                                                                                  \n",
      " conv5_block1_2_conv (Conv2D)   (None, 7, 7, 512)    2359808     ['conv5_block1_1_relu[0][0]']    \n",
      "                                                                                                  \n",
      " conv5_block1_2_bn (BatchNormal  (None, 7, 7, 512)   2048        ['conv5_block1_2_conv[0][0]']    \n",
      " ization)                                                                                         \n",
      "                                                                                                  \n",
      " conv5_block1_2_relu (Activatio  (None, 7, 7, 512)   0           ['conv5_block1_2_bn[0][0]']      \n",
      " n)                                                                                               \n",
      "                                                                                                  \n",
      " conv5_block1_0_conv (Conv2D)   (None, 7, 7, 2048)   2099200     ['conv4_block6_out[0][0]']       \n",
      "                                                                                                  \n",
      " conv5_block1_3_conv (Conv2D)   (None, 7, 7, 2048)   1050624     ['conv5_block1_2_relu[0][0]']    \n",
      "                                                                                                  \n",
      " conv5_block1_0_bn (BatchNormal  (None, 7, 7, 2048)  8192        ['conv5_block1_0_conv[0][0]']    \n",
      " ization)                                                                                         \n",
      "                                                                                                  \n",
      " conv5_block1_3_bn (BatchNormal  (None, 7, 7, 2048)  8192        ['conv5_block1_3_conv[0][0]']    \n",
      " ization)                                                                                         \n",
      "                                                                                                  \n",
      " conv5_block1_add (Add)         (None, 7, 7, 2048)   0           ['conv5_block1_0_bn[0][0]',      \n"
     ]
    },
    {
     "name": "stdout",
     "output_type": "stream",
     "text": [
      "                                                                  'conv5_block1_3_bn[0][0]']      \n",
      "                                                                                                  \n",
      " conv5_block1_out (Activation)  (None, 7, 7, 2048)   0           ['conv5_block1_add[0][0]']       \n",
      "                                                                                                  \n",
      " conv5_block2_1_conv (Conv2D)   (None, 7, 7, 512)    1049088     ['conv5_block1_out[0][0]']       \n",
      "                                                                                                  \n",
      " conv5_block2_1_bn (BatchNormal  (None, 7, 7, 512)   2048        ['conv5_block2_1_conv[0][0]']    \n",
      " ization)                                                                                         \n",
      "                                                                                                  \n",
      " conv5_block2_1_relu (Activatio  (None, 7, 7, 512)   0           ['conv5_block2_1_bn[0][0]']      \n",
      " n)                                                                                               \n",
      "                                                                                                  \n",
      " conv5_block2_2_conv (Conv2D)   (None, 7, 7, 512)    2359808     ['conv5_block2_1_relu[0][0]']    \n",
      "                                                                                                  \n",
      " conv5_block2_2_bn (BatchNormal  (None, 7, 7, 512)   2048        ['conv5_block2_2_conv[0][0]']    \n",
      " ization)                                                                                         \n",
      "                                                                                                  \n",
      " conv5_block2_2_relu (Activatio  (None, 7, 7, 512)   0           ['conv5_block2_2_bn[0][0]']      \n",
      " n)                                                                                               \n",
      "                                                                                                  \n",
      " conv5_block2_3_conv (Conv2D)   (None, 7, 7, 2048)   1050624     ['conv5_block2_2_relu[0][0]']    \n",
      "                                                                                                  \n",
      " conv5_block2_3_bn (BatchNormal  (None, 7, 7, 2048)  8192        ['conv5_block2_3_conv[0][0]']    \n",
      " ization)                                                                                         \n",
      "                                                                                                  \n",
      " conv5_block2_add (Add)         (None, 7, 7, 2048)   0           ['conv5_block1_out[0][0]',       \n",
      "                                                                  'conv5_block2_3_bn[0][0]']      \n",
      "                                                                                                  \n",
      " conv5_block2_out (Activation)  (None, 7, 7, 2048)   0           ['conv5_block2_add[0][0]']       \n",
      "                                                                                                  \n",
      " conv5_block3_1_conv (Conv2D)   (None, 7, 7, 512)    1049088     ['conv5_block2_out[0][0]']       \n",
      "                                                                                                  \n",
      " conv5_block3_1_bn (BatchNormal  (None, 7, 7, 512)   2048        ['conv5_block3_1_conv[0][0]']    \n",
      " ization)                                                                                         \n",
      "                                                                                                  \n",
      " conv5_block3_1_relu (Activatio  (None, 7, 7, 512)   0           ['conv5_block3_1_bn[0][0]']      \n",
      " n)                                                                                               \n",
      "                                                                                                  \n",
      " conv5_block3_2_conv (Conv2D)   (None, 7, 7, 512)    2359808     ['conv5_block3_1_relu[0][0]']    \n",
      "                                                                                                  \n",
      " conv5_block3_2_bn (BatchNormal  (None, 7, 7, 512)   2048        ['conv5_block3_2_conv[0][0]']    \n",
      " ization)                                                                                         \n",
      "                                                                                                  \n",
      " conv5_block3_2_relu (Activatio  (None, 7, 7, 512)   0           ['conv5_block3_2_bn[0][0]']      \n",
      " n)                                                                                               \n",
      "                                                                                                  \n",
      " conv5_block3_3_conv (Conv2D)   (None, 7, 7, 2048)   1050624     ['conv5_block3_2_relu[0][0]']    \n",
      "                                                                                                  \n",
      " conv5_block3_3_bn (BatchNormal  (None, 7, 7, 2048)  8192        ['conv5_block3_3_conv[0][0]']    \n",
      " ization)                                                                                         \n",
      "                                                                                                  \n",
      " conv5_block3_add (Add)         (None, 7, 7, 2048)   0           ['conv5_block2_out[0][0]',       \n",
      "                                                                  'conv5_block3_3_bn[0][0]']      \n",
      "                                                                                                  \n",
      " conv5_block3_out (Activation)  (None, 7, 7, 2048)   0           ['conv5_block3_add[0][0]']       \n",
      "                                                                                                  \n",
      " flatten_1 (Flatten)            (None, 100352)       0           ['conv5_block3_out[0][0]']       \n",
      "                                                                                                  \n",
      " dense_1 (Dense)                (None, 3)            301059      ['flatten_1[0][0]']              \n",
      "                                                                                                  \n",
      "==================================================================================================\n",
      "Total params: 23,888,771\n",
      "Trainable params: 301,059\n",
      "Non-trainable params: 23,587,712\n",
      "__________________________________________________________________________________________________\n"
     ]
    }
   ],
   "source": [
    "model.summary()"
   ]
  },
  {
   "cell_type": "code",
   "execution_count": 16,
   "id": "29e81adf",
   "metadata": {},
   "outputs": [],
   "source": [
    "# Model csot and optmization methods\n",
    "model.compile(\n",
    "    loss='categorical_crossentropy',\n",
    "    optimizer='adam',\n",
    "    metrics=['accuracy']\n",
    ")"
   ]
  },
  {
   "cell_type": "code",
   "execution_count": 17,
   "id": "483227a0",
   "metadata": {},
   "outputs": [],
   "source": [
    "# Use the Image Data Generator to import the images from the dataset\n",
    "from tensorflow.keras.preprocessing.image import ImageDataGenerator\n",
    "\n",
    "train_datagen = ImageDataGenerator(rescale = 1./255,\n",
    "                                   shear_range = 0.2,\n",
    "                                   zoom_range = 0.2,\n",
    "                                   horizontal_flip = True)\n",
    "\n",
    "test_datagen = ImageDataGenerator(rescale = 1./255)"
   ]
  },
  {
   "cell_type": "code",
   "execution_count": 18,
   "id": "794055ee",
   "metadata": {},
   "outputs": [
    {
     "name": "stdout",
     "output_type": "stream",
     "text": [
      "Found 1008 images belonging to 3 classes.\n"
     ]
    }
   ],
   "source": [
    "# Make sure you provide the same target size as initialied for the image size\n",
    "training_set = train_datagen.flow_from_directory('photo_data/train',\n",
    "                                                 target_size = (224, 224),\n",
    "                                                 batch_size = 32,\n",
    "                                                 class_mode = 'categorical')"
   ]
  },
  {
   "cell_type": "code",
   "execution_count": 19,
   "id": "74d3e92c",
   "metadata": {},
   "outputs": [
    {
     "name": "stdout",
     "output_type": "stream",
     "text": [
      "Found 89 images belonging to 3 classes.\n"
     ]
    }
   ],
   "source": [
    "test_set = test_datagen.flow_from_directory('photo_data/test',\n",
    "                                            target_size = (224, 224),\n",
    "                                            batch_size = 32,\n",
    "                                            class_mode = 'categorical')"
   ]
  },
  {
   "cell_type": "code",
   "execution_count": 20,
   "id": "1c321ea5",
   "metadata": {},
   "outputs": [
    {
     "name": "stderr",
     "output_type": "stream",
     "text": [
      "C:\\Users\\Marmik\\AppData\\Local\\Temp\\ipykernel_18672\\4102162479.py:3: UserWarning: `Model.fit_generator` is deprecated and will be removed in a future version. Please use `Model.fit`, which supports generators.\n",
      "  r = model.fit_generator(\n"
     ]
    },
    {
     "name": "stdout",
     "output_type": "stream",
     "text": [
      "Epoch 1/50\n",
      "32/32 [==============================] - 61s 2s/step - loss: 2.7664 - accuracy: 0.4742 - val_loss: 1.5435 - val_accuracy: 0.4719\n",
      "Epoch 2/50\n",
      "32/32 [==============================] - 65s 2s/step - loss: 0.8867 - accuracy: 0.6210 - val_loss: 0.7729 - val_accuracy: 0.6517\n",
      "Epoch 3/50\n",
      "32/32 [==============================] - 75s 2s/step - loss: 0.7292 - accuracy: 0.7073 - val_loss: 0.7244 - val_accuracy: 0.7303\n",
      "Epoch 4/50\n",
      "32/32 [==============================] - 76s 2s/step - loss: 0.9208 - accuracy: 0.6359 - val_loss: 0.7387 - val_accuracy: 0.7191\n",
      "Epoch 5/50\n",
      "32/32 [==============================] - 466s 15s/step - loss: 0.7624 - accuracy: 0.6716 - val_loss: 1.0188 - val_accuracy: 0.5955\n",
      "Epoch 6/50\n",
      "32/32 [==============================] - 61s 2s/step - loss: 0.6898 - accuracy: 0.7034 - val_loss: 0.6639 - val_accuracy: 0.7416\n",
      "Epoch 7/50\n",
      "32/32 [==============================] - 73s 2s/step - loss: 0.7474 - accuracy: 0.6875 - val_loss: 1.7569 - val_accuracy: 0.5281\n",
      "Epoch 8/50\n",
      "32/32 [==============================] - 86s 3s/step - loss: 1.3646 - accuracy: 0.5694 - val_loss: 1.2330 - val_accuracy: 0.5618\n",
      "Epoch 9/50\n",
      "32/32 [==============================] - 99s 3s/step - loss: 0.8334 - accuracy: 0.7093 - val_loss: 0.7512 - val_accuracy: 0.7079\n",
      "Epoch 10/50\n",
      "32/32 [==============================] - 100s 3s/step - loss: 0.6313 - accuracy: 0.7341 - val_loss: 0.6269 - val_accuracy: 0.7528\n",
      "Epoch 11/50\n",
      "32/32 [==============================] - 100s 3s/step - loss: 0.5559 - accuracy: 0.7589 - val_loss: 0.6217 - val_accuracy: 0.7528\n",
      "Epoch 12/50\n",
      "32/32 [==============================] - 117s 4s/step - loss: 0.6022 - accuracy: 0.7520 - val_loss: 0.5801 - val_accuracy: 0.7865\n",
      "Epoch 13/50\n",
      "32/32 [==============================] - 110s 3s/step - loss: 0.6172 - accuracy: 0.7351 - val_loss: 0.8090 - val_accuracy: 0.7753\n",
      "Epoch 14/50\n",
      "32/32 [==============================] - 112s 4s/step - loss: 0.5529 - accuracy: 0.7619 - val_loss: 0.6943 - val_accuracy: 0.7640\n",
      "Epoch 15/50\n",
      "32/32 [==============================] - 121s 4s/step - loss: 0.6678 - accuracy: 0.7113 - val_loss: 1.1473 - val_accuracy: 0.6067\n",
      "Epoch 16/50\n",
      "32/32 [==============================] - 116s 4s/step - loss: 1.0068 - accuracy: 0.6538 - val_loss: 0.8395 - val_accuracy: 0.7640\n",
      "Epoch 17/50\n",
      "32/32 [==============================] - 117s 4s/step - loss: 0.6736 - accuracy: 0.7272 - val_loss: 0.6067 - val_accuracy: 0.7865\n",
      "Epoch 18/50\n",
      "32/32 [==============================] - 112s 4s/step - loss: 0.5218 - accuracy: 0.7778 - val_loss: 0.5609 - val_accuracy: 0.7865\n",
      "Epoch 19/50\n",
      "32/32 [==============================] - 116s 4s/step - loss: 0.5580 - accuracy: 0.7649 - val_loss: 1.6593 - val_accuracy: 0.4944\n",
      "Epoch 20/50\n",
      "32/32 [==============================] - 120s 4s/step - loss: 0.7356 - accuracy: 0.7034 - val_loss: 1.0174 - val_accuracy: 0.6742\n",
      "Epoch 21/50\n",
      "32/32 [==============================] - 121s 4s/step - loss: 0.6288 - accuracy: 0.7450 - val_loss: 0.5434 - val_accuracy: 0.7865\n",
      "Epoch 22/50\n",
      "32/32 [==============================] - 128s 4s/step - loss: 0.6235 - accuracy: 0.7560 - val_loss: 0.5967 - val_accuracy: 0.7640\n",
      "Epoch 23/50\n",
      "32/32 [==============================] - 139s 4s/step - loss: 0.5862 - accuracy: 0.7550 - val_loss: 0.5917 - val_accuracy: 0.7978\n",
      "Epoch 24/50\n",
      "32/32 [==============================] - 146s 5s/step - loss: 0.4980 - accuracy: 0.7976 - val_loss: 0.4991 - val_accuracy: 0.8427\n",
      "Epoch 25/50\n",
      "32/32 [==============================] - 144s 4s/step - loss: 0.6263 - accuracy: 0.7391 - val_loss: 0.6313 - val_accuracy: 0.7978\n",
      "Epoch 26/50\n",
      "32/32 [==============================] - 137s 4s/step - loss: 0.4884 - accuracy: 0.7956 - val_loss: 0.7843 - val_accuracy: 0.7191\n",
      "Epoch 27/50\n",
      "32/32 [==============================] - 173s 5s/step - loss: 0.7283 - accuracy: 0.7173 - val_loss: 0.7162 - val_accuracy: 0.7416\n",
      "Epoch 28/50\n",
      "32/32 [==============================] - 247s 8s/step - loss: 0.6479 - accuracy: 0.7341 - val_loss: 0.7418 - val_accuracy: 0.7978\n",
      "Epoch 29/50\n",
      "32/32 [==============================] - 190s 6s/step - loss: 0.5941 - accuracy: 0.7421 - val_loss: 0.5211 - val_accuracy: 0.8427\n",
      "Epoch 30/50\n",
      "32/32 [==============================] - 207s 7s/step - loss: 0.6585 - accuracy: 0.7391 - val_loss: 0.5826 - val_accuracy: 0.7865\n",
      "Epoch 31/50\n",
      "32/32 [==============================] - 232s 7s/step - loss: 0.5683 - accuracy: 0.7579 - val_loss: 0.6655 - val_accuracy: 0.8090\n",
      "Epoch 32/50\n",
      "32/32 [==============================] - 189s 6s/step - loss: 0.5595 - accuracy: 0.7768 - val_loss: 0.9130 - val_accuracy: 0.6854\n",
      "Epoch 33/50\n",
      "32/32 [==============================] - 106s 3s/step - loss: 0.5607 - accuracy: 0.7599 - val_loss: 0.8305 - val_accuracy: 0.7753\n",
      "Epoch 34/50\n",
      "32/32 [==============================] - 72s 2s/step - loss: 0.6554 - accuracy: 0.7391 - val_loss: 0.4721 - val_accuracy: 0.8427\n",
      "Epoch 35/50\n",
      "32/32 [==============================] - 68s 2s/step - loss: 0.5992 - accuracy: 0.7639 - val_loss: 0.5934 - val_accuracy: 0.7978\n",
      "Epoch 36/50\n",
      "32/32 [==============================] - 81s 3s/step - loss: 0.4749 - accuracy: 0.8056 - val_loss: 0.4758 - val_accuracy: 0.8315\n",
      "Epoch 37/50\n",
      "32/32 [==============================] - 79s 2s/step - loss: 0.7696 - accuracy: 0.7282 - val_loss: 0.5733 - val_accuracy: 0.8202\n",
      "Epoch 38/50\n",
      "32/32 [==============================] - 78s 2s/step - loss: 0.5125 - accuracy: 0.7966 - val_loss: 0.7956 - val_accuracy: 0.7640\n",
      "Epoch 39/50\n",
      "32/32 [==============================] - 77s 2s/step - loss: 0.5402 - accuracy: 0.7748 - val_loss: 0.5645 - val_accuracy: 0.8202\n",
      "Epoch 40/50\n",
      "32/32 [==============================] - 78s 2s/step - loss: 0.7308 - accuracy: 0.7331 - val_loss: 1.0689 - val_accuracy: 0.7191\n",
      "Epoch 41/50\n",
      "32/32 [==============================] - 79s 2s/step - loss: 0.6459 - accuracy: 0.7589 - val_loss: 0.8866 - val_accuracy: 0.7753\n",
      "Epoch 42/50\n",
      "32/32 [==============================] - 80s 2s/step - loss: 0.6675 - accuracy: 0.7421 - val_loss: 0.6492 - val_accuracy: 0.7978\n",
      "Epoch 43/50\n",
      "32/32 [==============================] - 81s 3s/step - loss: 0.6057 - accuracy: 0.7649 - val_loss: 1.2642 - val_accuracy: 0.6742\n",
      "Epoch 44/50\n",
      "32/32 [==============================] - 82s 3s/step - loss: 0.6723 - accuracy: 0.7460 - val_loss: 0.4963 - val_accuracy: 0.8315\n",
      "Epoch 45/50\n",
      "32/32 [==============================] - 1393s 45s/step - loss: 0.5113 - accuracy: 0.7817 - val_loss: 0.6329 - val_accuracy: 0.7865\n",
      "Epoch 46/50\n",
      "32/32 [==============================] - 59s 2s/step - loss: 0.9174 - accuracy: 0.7133 - val_loss: 0.8000 - val_accuracy: 0.7528\n",
      "Epoch 47/50\n",
      "32/32 [==============================] - 64s 2s/step - loss: 0.6029 - accuracy: 0.7817 - val_loss: 0.5911 - val_accuracy: 0.7978\n",
      "Epoch 48/50\n",
      "32/32 [==============================] - 69s 2s/step - loss: 0.6895 - accuracy: 0.7480 - val_loss: 0.5267 - val_accuracy: 0.8427\n",
      "Epoch 49/50\n",
      "32/32 [==============================] - 74s 2s/step - loss: 0.4811 - accuracy: 0.8125 - val_loss: 0.7637 - val_accuracy: 0.8202\n",
      "Epoch 50/50\n",
      "32/32 [==============================] - 89s 3s/step - loss: 0.6623 - accuracy: 0.7361 - val_loss: 0.6967 - val_accuracy: 0.7528\n"
     ]
    }
   ],
   "source": [
    "# fit the model\n",
    "# Run the cell. It will take some time to execute\n",
    "r = model.fit_generator(\n",
    "  training_set,\n",
    "  validation_data=test_set,\n",
    "  epochs=50,\n",
    "  steps_per_epoch=len(training_set),\n",
    "  validation_steps=len(test_set)\n",
    ")"
   ]
  },
  {
   "cell_type": "code",
   "execution_count": 21,
   "id": "b1b94063",
   "metadata": {},
   "outputs": [
    {
     "data": {
      "image/png": "[encoded data removed]",
      "text/plain": [
       "<Figure size 640x480 with 1 Axes>"
      ]
     },
     "metadata": {},
     "output_type": "display_data"
    },
    {
     "data": {
      "image/png": "[encoded data removed]",
      "text/plain": [
       "<Figure size 640x480 with 1 Axes>"
      ]
     },
     "metadata": {},
     "output_type": "display_data"
    },
    {
     "data": {
      "text/plain": [
       "<Figure size 640x480 with 0 Axes>"
      ]
     },
     "metadata": {},
     "output_type": "display_data"
    }
   ],
   "source": [
    "# plot the loss\n",
    "plt.plot(r.history['loss'], label='train loss')\n",
    "plt.plot(r.history['val_loss'], label='val loss')\n",
    "plt.legend()\n",
    "plt.show()\n",
    "plt.savefig('LossVal_loss')\n",
    "\n",
    "# plot the accuracy\n",
    "plt.plot(r.history['accuracy'], label='train acc')\n",
    "plt.plot(r.history['val_accuracy'], label='val acc')\n",
    "plt.legend()\n",
    "plt.show()\n",
    "plt.savefig('AccVal_acc')"
   ]
  },
  {
   "cell_type": "code",
   "execution_count": 22,
   "id": "28c45f6f",
   "metadata": {},
   "outputs": [],
   "source": [
    "# save it as h5 file\n",
    "\n",
    "from tensorflow.keras.models import load_model\n",
    "model.save('model_resnet50.h5')"
   ]
  },
  {
   "cell_type": "code",
   "execution_count": 23,
   "id": "6715c25b",
   "metadata": {},
   "outputs": [
    {
     "name": "stdout",
     "output_type": "stream",
     "text": [
      "3/3 [==============================] - 7s 2s/step\n"
     ]
    }
   ],
   "source": [
    "y_pred = model.predict(test_set)"
   ]
  },
  {
   "cell_type": "code",
   "execution_count": 17,
   "id": "ea627cdb",
   "metadata": {},
   "outputs": [
    {
     "data": {
      "text/plain": [
       "array([[1.12255216e-02, 2.18407353e-04, 9.88556087e-01],\n",
       "       [9.95627999e-01, 1.69646755e-05, 4.35500965e-03],\n",
       "       [5.04433865e-06, 9.99994874e-01, 1.05844791e-07],\n",
       "       [6.46931585e-03, 9.92197335e-01, 1.33341365e-03],\n",
       "       [9.83523905e-01, 5.42194175e-04, 1.59340221e-02],\n",
       "       [6.58550501e-01, 8.79029467e-05, 3.41361672e-01],\n",
       "       [2.78141111e-01, 3.65421329e-05, 7.21822381e-01],\n",
       "       [2.31642485e-01, 9.54852998e-03, 7.58808970e-01],\n",
       "       [4.86501396e-01, 3.45965373e-06, 5.13495147e-01],\n",
       "       [9.93858397e-01, 1.07994296e-04, 6.03356585e-03],\n",
       "       [1.16580464e-02, 5.97114500e-04, 9.87744868e-01],\n",
       "       [3.63634437e-01, 6.15047276e-01, 2.13182345e-02],\n",
       "       [3.65680963e-01, 1.02786682e-04, 6.34216249e-01],\n",
       "       [2.35108819e-05, 9.99971867e-01, 4.59947478e-06],\n",
       "       [7.25852728e-01, 2.53466755e-01, 2.06805132e-02],\n",
       "       [3.01777329e-02, 9.60101128e-01, 9.72120464e-03],\n",
       "       [1.53967282e-02, 9.51439215e-05, 9.84508157e-01],\n",
       "       [9.99646902e-01, 2.64431520e-07, 3.52835719e-04],\n",
       "       [1.09605975e-02, 9.88520980e-01, 5.18401561e-04],\n",
       "       [5.51008344e-01, 4.01388668e-03, 4.44977790e-01],\n",
       "       [1.05575189e-01, 8.75413716e-01, 1.90110710e-02],\n",
       "       [1.27828447e-03, 8.64989431e-07, 9.98720825e-01],\n",
       "       [1.17625162e-01, 2.88112613e-04, 8.82086754e-01],\n",
       "       [4.02950682e-02, 3.63631329e-08, 9.59704936e-01],\n",
       "       [2.59049591e-02, 7.04997547e-07, 9.74094331e-01],\n",
       "       [1.78999379e-01, 1.50991326e-07, 8.21000516e-01],\n",
       "       [8.13939124e-02, 1.76209825e-04, 9.18429911e-01],\n",
       "       [9.49970186e-01, 3.86670901e-04, 4.96432297e-02],\n",
       "       [1.09971547e-03, 3.19045648e-05, 9.98868465e-01],\n",
       "       [5.18071949e-01, 2.97533572e-01, 1.84394494e-01],\n",
       "       [1.19369909e-01, 2.50313642e-05, 8.80605102e-01],\n",
       "       [3.23388800e-02, 5.90460658e-01, 3.77200425e-01],\n",
       "       [3.78045142e-01, 9.25137252e-02, 5.29441178e-01],\n",
       "       [2.76848231e-03, 8.72977944e-06, 9.97222781e-01],\n",
       "       [9.98701572e-01, 2.96402122e-05, 1.26881804e-03],\n",
       "       [9.99965787e-01, 9.69290977e-06, 2.46150175e-05],\n",
       "       [9.95537519e-01, 4.27514344e-04, 4.03505005e-03],\n",
       "       [9.86548841e-01, 4.33333451e-03, 9.11782589e-03],\n",
       "       [6.22830451e-01, 1.28131616e-03, 3.75888228e-01],\n",
       "       [9.46896493e-01, 4.20203782e-04, 5.26832901e-02],\n",
       "       [4.91953269e-02, 1.39910062e-05, 9.50790763e-01],\n",
       "       [9.57803726e-01, 6.23493688e-05, 4.21339571e-02],\n",
       "       [9.97375131e-01, 1.93083429e-06, 2.62296759e-03],\n",
       "       [9.97120380e-01, 7.41628901e-05, 2.80542439e-03],\n",
       "       [1.22783147e-01, 8.07178182e-08, 8.77216756e-01],\n",
       "       [1.31942497e-05, 9.99983549e-01, 3.18208026e-06],\n",
       "       [2.48504616e-02, 9.52219784e-01, 2.29297373e-02],\n",
       "       [1.41966015e-01, 8.45318675e-01, 1.27153816e-02],\n",
       "       [9.95848656e-01, 6.06880603e-05, 4.09064721e-03],\n",
       "       [1.13261361e-02, 9.88417566e-01, 2.56240804e-04],\n",
       "       [4.87175675e-14, 1.00000000e+00, 1.41557525e-19],\n",
       "       [4.47360915e-04, 9.95625496e-01, 3.92718194e-03],\n",
       "       [3.10557141e-07, 9.99992013e-01, 7.62514719e-06],\n",
       "       [1.09070517e-01, 2.70407218e-02, 8.63888800e-01],\n",
       "       [9.82166966e-04, 9.98111129e-01, 9.06603411e-04],\n",
       "       [9.99918103e-01, 2.98099599e-06, 7.89034602e-05],\n",
       "       [7.78541207e-01, 1.51030172e-05, 2.21443668e-01],\n",
       "       [9.24274087e-01, 6.54234952e-07, 7.57252648e-02],\n",
       "       [3.94224189e-04, 9.99414921e-01, 1.90896797e-04],\n",
       "       [2.71458532e-07, 9.99999762e-01, 5.69434855e-09],\n",
       "       [3.17043722e-01, 3.85824412e-01, 2.97131836e-01],\n",
       "       [8.58406782e-01, 6.27283544e-06, 1.41586944e-01],\n",
       "       [4.01202440e-02, 9.93540925e-06, 9.59869862e-01],\n",
       "       [9.97709632e-01, 8.73996896e-07, 2.28946400e-03],\n",
       "       [2.59302944e-01, 6.54871345e-01, 8.58257040e-02],\n",
       "       [8.03865492e-01, 1.91670470e-03, 1.94217831e-01],\n",
       "       [4.54951301e-02, 9.40588892e-01, 1.39159244e-02],\n",
       "       [1.27828447e-03, 8.64989431e-07, 9.98720825e-01],\n",
       "       [4.32924516e-02, 9.55316782e-01, 1.39073271e-03],\n",
       "       [3.87990415e-01, 3.92483576e-04, 6.11617088e-01],\n",
       "       [1.48935825e-01, 1.45479891e-04, 8.50918770e-01],\n",
       "       [8.79912496e-01, 1.24058246e-07, 1.20087430e-01],\n",
       "       [6.51688576e-01, 8.04516844e-07, 3.48310679e-01],\n",
       "       [9.78207767e-01, 8.71824523e-06, 2.17835214e-02],\n",
       "       [9.35848176e-01, 1.44813770e-08, 6.41517714e-02],\n",
       "       [5.23680091e-01, 7.40189137e-08, 4.76319849e-01],\n",
       "       [1.67325387e-12, 1.00000000e+00, 3.99250144e-16],\n",
       "       [7.64120638e-01, 1.11599057e-07, 2.35879272e-01],\n",
       "       [4.19138325e-03, 5.72516137e-06, 9.95802939e-01],\n",
       "       [7.71717072e-01, 1.42772624e-05, 2.28268638e-01],\n",
       "       [1.93411946e-01, 6.17676051e-05, 8.06526303e-01],\n",
       "       [1.67631488e-02, 9.24036145e-01, 5.92006631e-02],\n",
       "       [9.99045670e-01, 3.74982892e-06, 9.50623653e-04],\n",
       "       [9.84569252e-01, 1.00284356e-04, 1.53304590e-02],\n",
       "       [2.24576552e-10, 1.00000000e+00, 4.05164458e-10],\n",
       "       [2.08072230e-01, 1.95585296e-01, 5.96342504e-01],\n",
       "       [8.74012113e-02, 7.73208914e-04, 9.11825538e-01],\n",
       "       [3.74633586e-04, 6.91489025e-04, 9.98933852e-01],\n",
       "       [9.50314462e-01, 1.56348072e-08, 4.96855676e-02]], dtype=float32)"
      ]
     },
     "execution_count": 17,
     "metadata": {},
     "output_type": "execute_result"
    }
   ],
   "source": [
    "y_pred"
   ]
  },
  {
   "cell_type": "code",
   "execution_count": 24,
   "id": "d660ee42",
   "metadata": {},
   "outputs": [],
   "source": [
    "import numpy as np\n",
    "y_pred = np.argmax(y_pred, axis=1)"
   ]
  },
  {
   "cell_type": "code",
   "execution_count": 25,
   "id": "51d55204",
   "metadata": {},
   "outputs": [
    {
     "data": {
      "text/plain": [
       "array([0, 0, 0, 0, 0, 0, 0, 2, 1, 1, 1, 0, 0, 0, 0, 2, 1, 2, 0, 0, 0, 0,\n",
       "       0, 0, 2, 2, 1, 1, 0, 0, 0, 2, 2, 0, 0, 0, 0, 2, 1, 0, 1, 0, 1, 2,\n",
       "       1, 0, 0, 0, 1, 0, 0, 1, 1, 0, 0, 0, 0, 2, 1, 0, 0, 1, 2, 2, 1, 0,\n",
       "       0, 1, 0, 2, 0, 2, 0, 1, 1, 0, 2, 2, 0, 2, 1, 0, 1, 1, 2, 2, 0, 1,\n",
       "       2], dtype=int64)"
      ]
     },
     "execution_count": 25,
     "metadata": {},
     "output_type": "execute_result"
    }
   ],
   "source": [
    "y_pred"
   ]
  },
  {
   "cell_type": "code",
   "execution_count": 26,
   "id": "88a73cd6",
   "metadata": {},
   "outputs": [],
   "source": [
    "from tensorflow.keras.models import load_model\n",
    "from tensorflow.keras.preprocessing import image"
   ]
  },
  {
   "cell_type": "code",
   "execution_count": 27,
   "id": "a70de1ee",
   "metadata": {},
   "outputs": [],
   "source": [
    "model = load_model('model_resnet50.h5')"
   ]
  },
  {
   "cell_type": "code",
   "execution_count": 33,
   "id": "9eb89cdc",
   "metadata": {},
   "outputs": [
    {
     "data": {
      "text/plain": [
       "array([[[[-103.06841 , -116.033905, -122.985886],\n",
       "         [-103.06057 , -115.96723 , -122.91921 ],\n",
       "         [-103.00959 , -115.869194, -122.76627 ],\n",
       "         ...,\n",
       "         [-103.519394, -116.6692  , -123.67608 ],\n",
       "         [-103.50763 , -116.64959 , -123.67608 ],\n",
       "         [-103.50371 , -116.65743 , -123.67216 ]],\n",
       "\n",
       "        [[-103.0841  , -116.02213 , -123.00157 ],\n",
       "         [-103.09586 , -116.06528 , -123.0251  ],\n",
       "         [-103.04488 , -115.900566, -122.80549 ],\n",
       "         ...,\n",
       "         [-103.523315, -116.67312 , -123.68    ],\n",
       "         [-103.50763 , -116.64959 , -123.67608 ],\n",
       "         [-103.50763 , -116.661354, -123.67608 ]],\n",
       "\n",
       "        [[-102.98214 , -115.82998 , -122.73098 ],\n",
       "         [-103.127235, -116.21037 , -123.22902 ],\n",
       "         [-103.00959 , -115.91233 , -122.86039 ],\n",
       "         ...,\n",
       "         [-103.523315, -116.665276, -123.67216 ],\n",
       "         [-103.519394, -116.661354, -123.668236],\n",
       "         [-103.519394, -116.65743 , -123.67216 ]],\n",
       "\n",
       "        ...,\n",
       "\n",
       "        [[-103.939   , -116.67704 , -123.67608 ],\n",
       "         [-103.92332 , -116.62998 , -123.65255 ],\n",
       "         [-103.939   , -116.60253 , -123.63294 ],\n",
       "         ...,\n",
       "         [-103.915474, -116.739784, -123.66039 ],\n",
       "         [-103.92332 , -116.74763 , -123.668236],\n",
       "         [-103.93508 , -116.74763 , -123.67608 ]],\n",
       "\n",
       "        [[-103.939   , -116.716255, -123.68    ],\n",
       "         [-103.90763 , -116.62606 , -123.640785],\n",
       "         [-103.93116 , -116.586845, -123.613335],\n",
       "         ...,\n",
       "         [-103.93116 , -116.75547 , -123.68    ],\n",
       "         [-103.92724 , -116.7241  , -123.664314],\n",
       "         [-103.92332 , -116.739784, -123.66039 ]],\n",
       "\n",
       "        [[-103.939   , -116.69665 , -123.65647 ],\n",
       "         [-103.93116 , -116.64959 , -123.664314],\n",
       "         [-103.939   , -116.60645 , -123.63294 ],\n",
       "         ...,\n",
       "         [-103.919395, -116.73194 , -123.66039 ],\n",
       "         [-103.90371 , -116.688805, -123.63294 ],\n",
       "         [-103.93116 , -116.779   , -123.68    ]]]], dtype=float32)"
      ]
     },
     "execution_count": 33,
     "metadata": {},
     "output_type": "execute_result"
    }
   ],
   "source": [
    "img_data"
   ]
  },
  {
   "cell_type": "code",
   "execution_count": 28,
   "id": "8397fe42",
   "metadata": {},
   "outputs": [],
   "source": [
    "img=image.load_img('photo_data/Test/Sky/6307191.jpg',target_size=(224,224))\n"
   ]
  },
  {
   "cell_type": "code",
   "execution_count": 29,
   "id": "1f41826e",
   "metadata": {},
   "outputs": [
    {
     "data": {
      "text/plain": [
       "array([[[177., 190., 222.],\n",
       "        [194., 207., 224.],\n",
       "        [233., 232., 237.],\n",
       "        ...,\n",
       "        [  1.,  28., 107.],\n",
       "        [  1.,  33., 110.],\n",
       "        [  2.,  31., 111.]],\n",
       "\n",
       "       [[173., 193., 218.],\n",
       "        [167., 182., 215.],\n",
       "        [223., 224., 228.],\n",
       "        ...,\n",
       "        [  0.,  27., 106.],\n",
       "        [  1.,  33., 110.],\n",
       "        [  1.,  30., 110.]],\n",
       "\n",
       "       [[242., 242., 244.],\n",
       "        [115., 145., 207.],\n",
       "        [209., 221., 237.],\n",
       "        ...,\n",
       "        [  2.,  29., 106.],\n",
       "        [  3.,  30., 107.],\n",
       "        [  2.,  31., 107.]],\n",
       "\n",
       "       ...,\n",
       "\n",
       "       [[  1.,  26.,   0.],\n",
       "        [  7.,  38.,   4.],\n",
       "        [ 12.,  45.,   0.],\n",
       "        ...,\n",
       "        [  5.,  10.,   6.],\n",
       "        [  3.,   8.,   4.],\n",
       "        [  1.,   8.,   1.]],\n",
       "\n",
       "       [[  0.,  16.,   0.],\n",
       "        [ 10.,  39.,   8.],\n",
       "        [ 17.,  49.,   2.],\n",
       "        ...,\n",
       "        [  0.,   6.,   2.],\n",
       "        [  4.,  14.,   3.],\n",
       "        [  5.,  10.,   4.]],\n",
       "\n",
       "       [[  6.,  21.,   0.],\n",
       "        [  4.,  33.,   2.],\n",
       "        [ 12.,  44.,   0.],\n",
       "        ...,\n",
       "        [  5.,  12.,   5.],\n",
       "        [ 12.,  23.,   9.],\n",
       "        [  0.,   0.,   2.]]], dtype=float32)"
      ]
     },
     "execution_count": 29,
     "metadata": {},
     "output_type": "execute_result"
    }
   ],
   "source": [
    "x = image.img_to_array(img)\n",
    "x"
   ]
  },
  {
   "cell_type": "code",
   "execution_count": 30,
   "id": "65634c26",
   "metadata": {},
   "outputs": [
    {
     "data": {
      "text/plain": [
       "(224, 224, 3)"
      ]
     },
     "execution_count": 30,
     "metadata": {},
     "output_type": "execute_result"
    }
   ],
   "source": [
    "x.shape"
   ]
  },
  {
   "cell_type": "code",
   "execution_count": 31,
   "id": "384690c5",
   "metadata": {},
   "outputs": [],
   "source": [
    "x=x/255"
   ]
  },
  {
   "cell_type": "code",
   "execution_count": 32,
   "id": "ffed070a",
   "metadata": {},
   "outputs": [
    {
     "data": {
      "text/plain": [
       "(1, 224, 224, 3)"
      ]
     },
     "execution_count": 32,
     "metadata": {},
     "output_type": "execute_result"
    }
   ],
   "source": [
    "x=np.expand_dims(x,axis=0)\n",
    "img_data=preprocess_input(x)\n",
    "img_data.shape"
   ]
  },
  {
   "cell_type": "code",
   "execution_count": 34,
   "id": "1d458f8e",
   "metadata": {},
   "outputs": [
    {
     "name": "stdout",
     "output_type": "stream",
     "text": [
      "1/1 [==============================] - 1s 1s/step\n"
     ]
    },
    {
     "data": {
      "text/plain": [
       "array([[1.4360620e-08, 9.5672053e-01, 4.3279424e-02]], dtype=float32)"
      ]
     },
     "execution_count": 34,
     "metadata": {},
     "output_type": "execute_result"
    }
   ],
   "source": [
    "model.predict(img_data)"
   ]
  },
  {
   "cell_type": "code",
   "execution_count": 35,
   "id": "8e86da48",
   "metadata": {},
   "outputs": [
    {
     "name": "stdout",
     "output_type": "stream",
     "text": [
      "1/1 [==============================] - 0s 176ms/step\n"
     ]
    }
   ],
   "source": [
    "a=np.argmax(model.predict(img_data), axis=1)"
   ]
  },
  {
   "cell_type": "code",
   "execution_count": 36,
   "id": "8b43917d",
   "metadata": {},
   "outputs": [
    {
     "data": {
      "text/plain": [
       "array([ True])"
      ]
     },
     "execution_count": 36,
     "metadata": {},
     "output_type": "execute_result"
    }
   ],
   "source": [
    "a==1"
   ]
  },
  {
   "cell_type": "code",
   "execution_count": null,
   "id": "445bbbe9",
   "metadata": {},
   "outputs": [],
   "source": []
  }
 ],
 "metadata": {
  "kernelspec": {
   "display_name": "Python 3 (ipykernel)",
   "language": "python",
   "name": "python3"
  },
  "language_info": {
   "codemirror_mode": {
    "name": "ipython",
    "version": 3
   },
   "file_extension": ".py",
   "mimetype": "text/x-python",
   "name": "python",
   "nbconvert_exporter": "python",
   "pygments_lexer": "ipython3",
   "version": "3.10.10"
  }
 },
 "nbformat": 4,
 "nbformat_minor": 5
}
